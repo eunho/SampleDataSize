{
  "nbformat": 4,
  "nbformat_minor": 0,
  "metadata": {
    "colab": {
      "name": "M1.N% Retention Test Statistical Significance Calculation.ipynb",
      "version": "0.3.2",
      "provenance": [],
      "collapsed_sections": [],
      "include_colab_link": true
    },
    "kernelspec": {
      "name": "python3",
      "display_name": "Python 3"
    }
  },
  "cells": [
    {
      "cell_type": "markdown",
      "metadata": {
        "id": "view-in-github",
        "colab_type": "text"
      },
      "source": [
        "<a href=\"https://colab.research.google.com/github/eunho/SampleDataSize/blob/master/M1_N_Retention_Test_Statistical_Significance_Calculation.ipynb\" target=\"_parent\"><img src=\"https://colab.research.google.com/assets/colab-badge.svg\" alt=\"Open In Colab\"/></a>"
      ]
    },
    {
      "cell_type": "code",
      "metadata": {
        "id": "k01NjgSpvN6C",
        "colab_type": "code",
        "cellView": "form",
        "outputId": "7b830b80-5532-49aa-bc9a-a23a4592d387",
        "colab": {
          "base_uri": "https://localhost:8080/",
          "height": 155
        }
      },
      "source": [
        "#@title Please Enter the Number of M0 for M1 and M1.N for the M1.N% Test:\n",
        "\n",
        "M0_for_M1_Control = 1500 #@param {type:\"integer\"}\n",
        "M0_for_M1_Challenger = 1500 #@param {type:\"integer\"}\n",
        "M1_N_Control = 550 #@param {type:\"integer\"}\n",
        "M1_N_Challenger = 600 #@param {type:\"integer\"}\n",
        "\n",
        "import numpy as np\n",
        "from math import sqrt\n",
        "import pandas as pd\n",
        "from IPython.display import display\n",
        "import scipy\n",
        "import math \n",
        "from scipy import stats\n",
        "from statsmodels.stats.proportion import proportions_ztest\n",
        "from scipy.stats import chi2_contingency\n",
        "from scipy.stats import chi2\n",
        "\n",
        "def sig(x1, n1, x2, n2):\n",
        "    x = np.array([x1, x2])\n",
        "    n = np.array([n1, n2])\n",
        "    z_stat, p_value = proportions_ztest(x, n, value=0, alternative='two-sided')\n",
        "    return z_stat, p_value\n",
        "\n",
        "def zconf_interval_two_samples(x1, n1, x2, n2, alpha=0.1):\n",
        "    p1 = x1/n1\n",
        "    p2 = x2/n2    \n",
        "    var = p1*(1-p1)/n1 + p2*(1-p2)/n2\n",
        "    se = math.sqrt(var)\n",
        "    z_critical = stats.norm.ppf(1-alpha/2)\n",
        "    ci_low,ci_upp = p2-p1-z_critical*se, p2-p1+z_critical*se\n",
        "    # return ci_low,ci_upp\n",
        "    print('90% Confidence Interval of the difference between Challenger and Control is [{0:.2f}%, {1:.2f}%]'.format(100*ci_low, 100*ci_upp))\n",
        "    \n",
        "print('#M0_for_M1_Control: {}\\n#M0_for_M1_Challenger: {}\\n#M1.N_Control: {}\\n#M1.N_Challenger: {}\\n'.format(M0_for_M1_Control, M0_for_M1_Challenger, M1_N_Control, M1_N_Challenger))\n",
        "\n",
        "try:\n",
        "    x1, x2, n1, n2 = M1_N_Control, M1_N_Challenger, M0_for_M1_Control, M0_for_M1_Challenger\n",
        "    z_stat, p_value = sig(x1=x1, n1=n1, x2=x2, n2=n2)\n",
        "    if p_value > 0.1:\n",
        "        print('p-value = {:.3%}, No significant difference between Control and Challenger under 90% confidence level.'.format(p_value))\n",
        "    elif 0<= p_value <= 0.1:\n",
        "        if z_stat<=0:\n",
        "            print('p-value = {:.3%}\\nChallenger is the Winner! There are Significant difference between Control and Challenger under 90% confidence level.'.format(p_value))\n",
        "        else:\n",
        "            print('p-value = {:.3%}\\nControl is the Winner! There are Significant difference between Control and Challenger under 90% confidence level.'.format(p_value))\n",
        "    zconf_interval_two_samples(x1=x1, n1=n1, x2=x2, n2=n2, alpha=0.1)\n",
        "except Exception as e:\n",
        "    print(e)\n",
        "    print(\"Pls check your input!\")"
      ],
      "execution_count": 0,
      "outputs": [
        {
          "output_type": "stream",
          "text": [
            "#M0_for_M1_Control: 1500\n",
            "#M0_for_M1_Challenger: 1500\n",
            "#M1.N_Control: 550\n",
            "#M1.N_Challenger: 600\n",
            "\n",
            "p-value = 6.044%\n",
            "Challenger is the Winner! There are Significant difference between Control and Challenger under 90% confidence level.\n",
            "90% Confidence Interval of the difference between Challenger and Control is [0.41%, 6.25%]\n"
          ],
          "name": "stdout"
        }
      ]
    }
  ]
}