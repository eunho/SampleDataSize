{
  "nbformat": 4,
  "nbformat_minor": 0,
  "metadata": {
    "colab": {
      "name": "CB#% Test Statistical Significance Calculation.ipynb",
      "version": "0.3.2",
      "provenance": [],
      "collapsed_sections": [],
      "include_colab_link": true
    },
    "kernelspec": {
      "name": "python3",
      "display_name": "Python 3"
    }
  },
  "cells": [
    {
      "cell_type": "markdown",
      "metadata": {
        "id": "view-in-github",
        "colab_type": "text"
      },
      "source": [
        "<a href=\"https://colab.research.google.com/github/eunho/SampleDataSize/blob/master/CB_Test_Statistical_Significance_Calculation.ipynb\" target=\"_parent\"><img src=\"https://colab.research.google.com/assets/colab-badge.svg\" alt=\"Open In Colab\"/></a>"
      ]
    },
    {
      "cell_type": "code",
      "metadata": {
        "id": "cDB6HMWsyOWT",
        "colab_type": "code",
        "cellView": "form",
        "outputId": "0f912d2f-d818-4e48-db0e-c4b0cce9f3ce",
        "colab": {
          "base_uri": "https://localhost:8080/",
          "height": 155
        }
      },
      "source": [
        "#@title Please Enter the Number of Transactions and CB for the CB#% Test:\n",
        "\n",
        "\n",
        "Transactions_Control = 10000 #@param {type:\"integer\"}\n",
        "Transactions_Challenger = 10000 #@param {type:\"integer\"}\n",
        "CB_Control = 150 #@param {type:\"integer\"}\n",
        "CB_Challenger = 100 #@param {type:\"integer\"}\n",
        "\n",
        "import numpy as np\n",
        "from math import sqrt\n",
        "import pandas as pd\n",
        "from IPython.display import display\n",
        "import scipy\n",
        "import math \n",
        "from scipy import stats\n",
        "from statsmodels.stats.proportion import proportions_ztest\n",
        "from scipy.stats import chi2_contingency\n",
        "from scipy.stats import chi2\n",
        "\n",
        "def sig(x1, n1, x2, n2):\n",
        "    x = np.array([x1, x2])\n",
        "    n = np.array([n1, n2])\n",
        "    z_stat, p_value = proportions_ztest(x, n, value=0, alternative='two-sided')\n",
        "    return z_stat, p_value\n",
        "\n",
        "def zconf_interval_two_samples(x1, n1, x2, n2, alpha=0.1):\n",
        "    p1 = x1/n1\n",
        "    p2 = x2/n2    \n",
        "    var = p1*(1-p1)/n1 + p2*(1-p2)/n2\n",
        "    se = math.sqrt(var)\n",
        "    z_critical = stats.norm.ppf(1-alpha/2)\n",
        "    ci_low,ci_upp = p2-p1-z_critical*se, p2-p1+z_critical*se\n",
        "    # return ci_low,ci_upp\n",
        "    print('90% Confidence Interval of the difference between Challenger and Control is [{0:.2f}%, {1:.2f}%]'.format(100*ci_low, 100*ci_upp))\n",
        "    \n",
        "print('#Transactions_Control: {}\\n#Transactions_Challenger: {}\\n#CB_Control: {}\\n#CB_Challenger: {}\\n'.format(Transactions_Control, Transactions_Challenger, CB_Control, CB_Challenger))\n",
        "\n",
        "try:\n",
        "    x1, x2, n1, n2 = CB_Control, CB_Challenger, Transactions_Control, Transactions_Challenger\n",
        "    z_stat, p_value = sig(x1=x1, n1=n1, x2=x2, n2=n2)\n",
        "    if p_value > 0.1:\n",
        "        print('p-value = {:.3%}, No significant difference between Control and Challenger under 90% confidence level.'.format(p_value))\n",
        "    elif 0<= p_value <= 0.1:\n",
        "        if z_stat<=0:\n",
        "            print('p-value = {:.3%}\\nChallenger is the Winner! There are Significant difference between Control and Challenger under 90% confidence level.'.format(p_value))\n",
        "        else:\n",
        "            print('p-value = {:.3%}\\nControl is the Winner! There are Significant difference between Control and Challenger under 90% confidence level.'.format(p_value))\n",
        "    zconf_interval_two_samples(x1=x1, n1=n1, x2=x2, n2=n2, alpha=0.1)\n",
        "except Exception as e:\n",
        "    print(e)\n",
        "    print(\"Pls check your input!\")"
      ],
      "execution_count": 0,
      "outputs": [
        {
          "output_type": "stream",
          "text": [
            "#Transactions_Control: 10000\n",
            "#Transactions_Challenger: 10000\n",
            "#CB_Control: 150\n",
            "#CB_Challenger: 100\n",
            "\n",
            "p-value = 0.146%\n",
            "Control is the Winner! There are Significant difference between Control and Challenger under 90% confidence level.\n",
            "90% Confidence Interval of the difference between Challenger and Control is [-0.76%, -0.24%]\n"
          ],
          "name": "stdout"
        }
      ]
    },
    {
      "cell_type": "code",
      "metadata": {
        "id": "B-xPou2tyxAr",
        "colab_type": "code",
        "colab": {}
      },
      "source": [
        ""
      ],
      "execution_count": 0,
      "outputs": []
    }
  ]
}