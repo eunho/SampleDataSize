{
  "nbformat": 4,
  "nbformat_minor": 0,
  "metadata": {
    "hide_input": false,
    "kernelspec": {
      "display_name": "Python 3",
      "language": "python",
      "name": "python3"
    },
    "language_info": {
      "codemirror_mode": {
        "name": "ipython",
        "version": 3
      },
      "file_extension": ".py",
      "mimetype": "text/x-python",
      "name": "python",
      "nbconvert_exporter": "python",
      "pygments_lexer": "ipython3",
      "version": "3.7.1"
    },
    "colab": {
      "name": "Sample_Size.ipynb",
      "version": "0.3.2",
      "provenance": [],
      "collapsed_sections": [],
      "include_colab_link": true
    }
  },
  "cells": [
    {
      "cell_type": "markdown",
      "metadata": {
        "id": "view-in-github",
        "colab_type": "text"
      },
      "source": [
        "<a href=\"https://colab.research.google.com/github/eunho/SampleDataSize/blob/master/Sample_Size.ipynb\" target=\"_parent\"><img src=\"https://colab.research.google.com/assets/colab-badge.svg\" alt=\"Open In Colab\"/></a>"
      ]
    },
    {
      "cell_type": "markdown",
      "metadata": {
        "id": "X0BHmzCQkKCe",
        "colab_type": "text"
      },
      "source": [
        "## Sample Size Calculation -Pre-test analysis"
      ]
    },
    {
      "cell_type": "markdown",
      "metadata": {
        "ExecuteTime": {
          "end_time": "2019-07-01T21:14:01.185905Z",
          "start_time": "2019-07-01T21:14:01.178019Z"
        },
        "id": "brT8FU9TkKCf",
        "colab_type": "text"
      },
      "source": [
        "The sample size needed to detect if there will actually be a difference of d between control and challenger (with the required signifiance level and power)"
      ]
    },
    {
      "cell_type": "markdown",
      "metadata": {
        "hide_input": false,
        "id": "SMJjohoKkKCm",
        "colab_type": "text"
      },
      "source": [
        "\\begin{equation*}\n",
        "N=f(p, d, α,1-β)\n",
        "\\end{equation*}"
      ]
    },
    {
      "cell_type": "markdown",
      "metadata": {
        "ExecuteTime": {
          "end_time": "2019-08-08T21:48:42.431438Z",
          "start_time": "2019-08-08T21:48:42.425322Z"
        },
        "id": "ZBKq3j1mkKCn",
        "colab_type": "text"
      },
      "source": [
        "- p: Expected value of the baseline proportion metric (the control's). e.g.Control's CR% for CR% test\n",
        "- d (Minimum Detectable Effect): The smallest difference in the proportion metric that we would liket to detect (1-β)% of the time. A smaller d requires a larger sample size.\n",
        "- α (Significance level|Type I error): Percent of the time the difference will be detected, assuming it does NOT exist. Usually α = 10% or 5%\n",
        "- 1-β (Statistical power|1-Type II error): Percent of the time the difference will be detected, assuming it exists. Usually power 1−β = 80%"
      ]
    },
    {
      "cell_type": "markdown",
      "metadata": {
        "ExecuteTime": {
          "end_time": "2019-08-08T22:17:44.839391Z",
          "start_time": "2019-08-08T22:17:44.833268Z"
        },
        "id": "C_mJr5hQkKCs",
        "colab_type": "text"
      },
      "source": [
        "- Dash for chosing baseline proportion metric http://sisense3.nationsinfocorp.com:8081/app/main#/dashboards/5d4385537b051928cc5b578c/\n",
        "- Sample Size refers to the value of denominator of the proportion metric (p) in each group, because the denominator is same for both groups. We are converting the Sample Size to be measured by M0 in our case. "
      ]
    },
    {
      "cell_type": "markdown",
      "metadata": {
        "ExecuteTime": {
          "end_time": "2019-08-08T22:06:10.071040Z",
          "start_time": "2019-08-08T22:06:10.063862Z"
        },
        "id": "kz48LOaLkKCr",
        "colab_type": "text"
      },
      "source": [
        "### Assumptions:\n",
        "- Equal sample size for Control and Challenger\n",
        "- 7% min relative detectable difference, 10% significance level, 80% Power.\n",
        "- CR%_baseline for RTO, FCL, Credco: [2%, 1.1%, 8%];\n",
        "- M1.N%_baseline for RTO, FCL, Credco: [36%, 39%, 40%];\n",
        "- CB%_baseline for RTO, FCL, Credco: [1.5%, 1.1%, 2%], #Trans/#M0 conversion coefficient for RTO, FCL, Credco: [3, 5, 3];"
      ]
    },
    {
      "cell_type": "code",
      "metadata": {
        "ExecuteTime": {
          "end_time": "2019-08-21T22:35:22.433890Z",
          "start_time": "2019-08-21T22:35:22.395962Z"
        },
        "id": "rgtjgpISkKCz",
        "colab_type": "code",
        "outputId": "799e2a60-df96-420f-a679-e5467d13d21a",
        "cellView": "form",
        "colab": {
          "base_uri": "https://localhost:8080/",
          "height": 173
        }
      },
      "source": [
        "#@title\n",
        "#@markdown Table 1\n",
        "table = pd.DataFrame(columns=['Test', 'RTO', 'FCL', 'Credco']) \n",
        "table['Test'] = ['CR% Test', 'Retention Test', 'CB#% Test']\n",
        "cr_base = list(zip(['RTO', 'FCL', 'Credco'], [2e-2, 1.1e-2, 8e-2]))\n",
        "ret_base = list(zip(['RTO', 'FCL', 'Credco'], [36e-2, 39e-2, 40e-2]))\n",
        "cb_base = list(zip(['RTO', 'FCL', 'Credco'], [1.5e-2, 1.1e-2, 2e-2], [3, 5, 3]))\n",
        "\n",
        "for item in cr_base:\n",
        "    vertical_name = item[0]\n",
        "    p = item[1]\n",
        "    denominator, numerator_contol, numerator_challenger = get_sampSize(p=p, rd=10e-2, r=1, alpha=0.1, beta=0.2)\n",
        "    table[vertical_name][0] = numerator_challenger\n",
        "    \n",
        "for item in ret_base:\n",
        "    vertical_name = item[0]\n",
        "    p = item[1]\n",
        "    denominator, numerator_contol, numerator_challenger = get_sampSize(p=p, rd=10e-2, r=1, alpha=0.1, beta=0.2)\n",
        "    table[vertical_name][1] = denominator \n",
        "   \n",
        "for item in cb_base:\n",
        "    vertical_name = item[0]\n",
        "    p = item[1]\n",
        "    tm_ratio = item[2]\n",
        "    denominator, numerator_contol, numerator_challenger = get_sampSize(p=p, rd=10e-2, r=1, alpha=0.1, beta=0.2)\n",
        "    table[vertical_name][2] = round(denominator/tm_ratio)\n",
        "\n",
        "print(\"Sample Size per variation measured by #M0:\\n(10% relative detectable difference, 10% significance level, 80% Power):\")\n",
        "display(table)"
      ],
      "execution_count": 0,
      "outputs": [
        {
          "output_type": "stream",
          "text": [
            "Sample Size per variation measured by #M0:\n",
            "(10% relative detectable difference, 10% significance level, 80% Power):\n"
          ],
          "name": "stdout"
        },
        {
          "output_type": "display_data",
          "data": {
            "text/html": [
              "<div>\n",
              "<style scoped>\n",
              "    .dataframe tbody tr th:only-of-type {\n",
              "        vertical-align: middle;\n",
              "    }\n",
              "\n",
              "    .dataframe tbody tr th {\n",
              "        vertical-align: top;\n",
              "    }\n",
              "\n",
              "    .dataframe thead th {\n",
              "        text-align: right;\n",
              "    }\n",
              "</style>\n",
              "<table border=\"1\" class=\"dataframe\">\n",
              "  <thead>\n",
              "    <tr style=\"text-align: right;\">\n",
              "      <th></th>\n",
              "      <th>Test</th>\n",
              "      <th>RTO</th>\n",
              "      <th>FCL</th>\n",
              "      <th>Credco</th>\n",
              "    </tr>\n",
              "  </thead>\n",
              "  <tbody>\n",
              "    <tr>\n",
              "      <th>0</th>\n",
              "      <td>CR% Test</td>\n",
              "      <td>1398</td>\n",
              "      <td>1412</td>\n",
              "      <td>1308</td>\n",
              "    </tr>\n",
              "    <tr>\n",
              "      <th>1</th>\n",
              "      <td>Retention Test</td>\n",
              "      <td>2240</td>\n",
              "      <td>1963</td>\n",
              "      <td>1879</td>\n",
              "    </tr>\n",
              "    <tr>\n",
              "      <th>2</th>\n",
              "      <td>CB#% Test</td>\n",
              "      <td>28396</td>\n",
              "      <td>23333</td>\n",
              "      <td>21184</td>\n",
              "    </tr>\n",
              "  </tbody>\n",
              "</table>\n",
              "</div>"
            ],
            "text/plain": [
              "             Test    RTO    FCL Credco\n",
              "0        CR% Test   1398   1412   1308\n",
              "1  Retention Test   2240   1963   1879\n",
              "2       CB#% Test  28396  23333  21184"
            ]
          },
          "metadata": {
            "tags": []
          }
        }
      ]
    },
    {
      "cell_type": "code",
      "metadata": {
        "ExecuteTime": {
          "end_time": "2019-08-21T22:35:21.515766Z",
          "start_time": "2019-08-21T22:35:21.471473Z"
        },
        "hide_input": false,
        "id": "sotRBE7hkKCw",
        "colab_type": "code",
        "outputId": "bdf7ecda-0d2e-4c71-fb6b-193267d7644c",
        "cellView": "form",
        "colab": {
          "base_uri": "https://localhost:8080/",
          "height": 173
        }
      },
      "source": [
        "#@title\n",
        "#@markdown Table 2\n",
        "import numpy as np\n",
        "from math import sqrt\n",
        "import pandas as pd\n",
        "from IPython.display import display\n",
        "import scipy\n",
        "import math \n",
        "from scipy import stats\n",
        "\n",
        "def get_sampSize(p, rd, r=1, alpha=0.1, beta=0.2):\n",
        "    \"\"\"\n",
        "    Two tailed test\n",
        "    \"\"\"\n",
        "    d = p*rd\n",
        "    var1 = p*(1-p)\n",
        "    var2 = (p+d)*(1-p-d)\n",
        "    z_alpha = scipy.stats.norm.ppf(1-alpha/2)\n",
        "    z_beta = scipy.stats.norm.ppf(1-beta)\n",
        "    n = pow(z_alpha+z_beta, 2)*((r*var1+var2))/r / pow(d, 2)\n",
        "    # n = pow(z_alpha+z_beta, 2)*(var1+var2)/pow(d, 2)\n",
        "    denominator = int(round(n))\n",
        "    numerator_contol = int(round(n*p))\n",
        "    numerator_challenger = int(round(n*(p+d)))\n",
        "    return denominator, numerator_contol, numerator_challenger\n",
        "\n",
        "table = pd.DataFrame(columns=['Test', 'RTO', 'FCL', 'Credco']) \n",
        "table['Test'] = ['CR% Test', 'Retention Test', 'CB#% Test']\n",
        "cr_base = list(zip(['RTO', 'FCL', 'Credco'], [2e-2, 1.1e-2, 8e-2]))\n",
        "ret_base = list(zip(['RTO', 'FCL', 'Credco'], [36e-2, 39e-2, 40e-2]))\n",
        "cb_base = list(zip(['RTO', 'FCL', 'Credco'], [1.5e-2, 1.1e-2, 2e-2], [3, 5, 3]))\n",
        "\n",
        "for item in cr_base:\n",
        "    vertical_name = item[0]\n",
        "    p = item[1]\n",
        "    denominator, numerator_contol, numerator_challenger = get_sampSize(p=p, rd=15e-2, r=1, alpha=0.1, beta=0.2)\n",
        "    table[vertical_name][0] = numerator_challenger\n",
        "    \n",
        "for item in ret_base:\n",
        "    vertical_name = item[0]\n",
        "    p = item[1]\n",
        "    denominator, numerator_contol, numerator_challenger = get_sampSize(p=p, rd=15e-2, r=1, alpha=0.1, beta=0.2)\n",
        "    table[vertical_name][1] = denominator \n",
        "   \n",
        "for item in cb_base:\n",
        "    vertical_name = item[0]\n",
        "    p = item[1]\n",
        "    tm_ratio = item[2]\n",
        "    denominator, numerator_contol, numerator_challenger = get_sampSize(p=p, rd=15e-2, r=1, alpha=0.1, beta=0.2)\n",
        "    table[vertical_name][2] = round(denominator/tm_ratio)\n",
        "\n",
        "print(\"Sample Size per variation measured by #M0:\\n(15% relative detectable difference, 10% significance level, 80% Power):\")\n",
        "display(table)"
      ],
      "execution_count": 0,
      "outputs": [
        {
          "output_type": "stream",
          "text": [
            "Sample Size per variation measured by #M0:\n",
            "(15% relative detectable difference, 10% significance level, 80% Power):\n"
          ],
          "name": "stdout"
        },
        {
          "output_type": "display_data",
          "data": {
            "text/html": [
              "<div>\n",
              "<style scoped>\n",
              "    .dataframe tbody tr th:only-of-type {\n",
              "        vertical-align: middle;\n",
              "    }\n",
              "\n",
              "    .dataframe tbody tr th {\n",
              "        vertical-align: top;\n",
              "    }\n",
              "\n",
              "    .dataframe thead th {\n",
              "        text-align: right;\n",
              "    }\n",
              "</style>\n",
              "<table border=\"1\" class=\"dataframe\">\n",
              "  <thead>\n",
              "    <tr style=\"text-align: right;\">\n",
              "      <th></th>\n",
              "      <th>Test</th>\n",
              "      <th>RTO</th>\n",
              "      <th>FCL</th>\n",
              "      <th>Credco</th>\n",
              "    </tr>\n",
              "  </thead>\n",
              "  <tbody>\n",
              "    <tr>\n",
              "      <th>0</th>\n",
              "      <td>CR% Test</td>\n",
              "      <td>665</td>\n",
              "      <td>671</td>\n",
              "      <td>621</td>\n",
              "    </tr>\n",
              "    <tr>\n",
              "      <th>1</th>\n",
              "      <td>Retention Test</td>\n",
              "      <td>1003</td>\n",
              "      <td>877</td>\n",
              "      <td>839</td>\n",
              "    </tr>\n",
              "    <tr>\n",
              "      <th>2</th>\n",
              "      <td>CB#% Test</td>\n",
              "      <td>12916</td>\n",
              "      <td>10614</td>\n",
              "      <td>9634</td>\n",
              "    </tr>\n",
              "  </tbody>\n",
              "</table>\n",
              "</div>"
            ],
            "text/plain": [
              "             Test    RTO    FCL Credco\n",
              "0        CR% Test    665    671    621\n",
              "1  Retention Test   1003    877    839\n",
              "2       CB#% Test  12916  10614   9634"
            ]
          },
          "metadata": {
            "tags": []
          }
        }
      ]
    },
    {
      "cell_type": "markdown",
      "metadata": {
        "id": "f6AD5oxzkKEA",
        "colab_type": "text"
      },
      "source": [
        "### Avoid PEEKING to stopping the test as soon as the results \"look\" significant"
      ]
    },
    {
      "cell_type": "markdown",
      "metadata": {
        "id": "z-arle_rkKDc",
        "colab_type": "text"
      },
      "source": [
        "#### Early stopping of an AB test\n",
        "3 Planned interim Look: \n",
        "- If the first interim analysis was significant at the 0.001% level (99.999% confidence) P-value< 0.001%\n",
        "- If the second interim analysis was significant at the 0.01% level (99.99% confidence) P-value< 0.01%\n",
        "- If the third interim analysis was significant at the 0.1% level (99.9% confidence) P-value< 0.1%"
      ]
    },
    {
      "cell_type": "markdown",
      "metadata": {
        "id": "iBmefFzHkKDx",
        "colab_type": "text"
      },
      "source": [
        "## Statistical Significance Calculation - Post-test Evaluation"
      ]
    },
    {
      "cell_type": "markdown",
      "metadata": {
        "id": "3ErzpgSZJA9X",
        "colab_type": "text"
      },
      "source": [
        "### [CR% Test Statistical Significance Calculation](https://colab.research.google.com/drive/1lhzQfM-FdSrE28MkyESZ1kgLb4vmyOiL)"
      ]
    },
    {
      "cell_type": "markdown",
      "metadata": {
        "colab_type": "text",
        "id": "QQKuDIg1urYv"
      },
      "source": [
        "### [M1.N% Retention Test Statistical Significance Calculation](https://colab.research.google.com/drive/1DbE1YQh0gemAeXSrPZd3Rg_vrSBRmw4C)"
      ]
    },
    {
      "cell_type": "markdown",
      "metadata": {
        "id": "Zcy7-ikCuw3D",
        "colab_type": "text"
      },
      "source": [
        "### [CB#% Test Statistical Significance Calculation](https://colab.research.google.com/drive/1hyQee3wBRJiLENBPg5rCFLi7sjoTNcuS#scrollTo=cDB6HMWsyOWT)"
      ]
    }
  ]
}